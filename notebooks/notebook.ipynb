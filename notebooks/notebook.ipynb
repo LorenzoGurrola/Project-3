{
 "cells": [
  {
   "cell_type": "code",
   "execution_count": 94,
   "metadata": {},
   "outputs": [],
   "source": [
    "import numpy as np\n",
    "import pandas as pd\n",
    "import random\n",
    "from sklearn.model_selection import train_test_split\n",
    "import torch\n",
    "import torch.nn as nn\n",
    "import os\n",
    "import matplotlib.pyplot as plt\n",
    "%matplotlib inline\n",
    "import scipy.stats as stats "
   ]
  },
  {
   "cell_type": "code",
   "execution_count": 95,
   "metadata": {},
   "outputs": [],
   "source": [
    "def load_data():\n",
    "    std_dev = 1\n",
    "    mean = 5\n",
    "    x1 = np.linspace(1, 9, 100)\n",
    "    x2 = np.linspace(3, 11, 100)\n",
    "    y = ((x1 > 6) & (x2 > 9)).astype(int)\n",
    "    X = np.stack((x1, x2), axis=1)\n",
    "    X_train, X_test, y_train, y_test = train_test_split(X, y, train_size=0.8, random_state=10)\n",
    "    y_train = np.reshape(y_train, (y_train.shape[0], 1))\n",
    "    y_test = np.reshape(y_test, (y_test.shape[0], 1))\n",
    "    return X_train, X_test, y_train, y_test"
   ]
  },
  {
   "cell_type": "code",
   "execution_count": 96,
   "metadata": {},
   "outputs": [],
   "source": [
    "def initialize_params(X):\n",
    "    n = X.shape[1]\n",
    "    w = np.random.randn(n, 1) * 0.1\n",
    "    b = np.zeros((1, 1))\n",
    "    params = {'w':w, 'b':b}\n",
    "    return params"
   ]
  },
  {
   "cell_type": "code",
   "execution_count": 97,
   "metadata": {},
   "outputs": [],
   "source": [
    "def sigmoid(z):\n",
    "    a = 1/(1 + np.exp(-z))\n",
    "    return a"
   ]
  },
  {
   "cell_type": "code",
   "execution_count": 98,
   "metadata": {},
   "outputs": [],
   "source": [
    "def forward_prop(X, params):\n",
    "    w = params['w']\n",
    "    b = params['b']\n",
    "    z = X @ w + b\n",
    "    inter_vals = {'z':z}\n",
    "    yhat = sigmoid(z)\n",
    "    return yhat, inter_vals"
   ]
  },
  {
   "cell_type": "code",
   "execution_count": 99,
   "metadata": {},
   "outputs": [],
   "source": [
    "def calculate_cost(yhat, y):\n",
    "    m = y.shape[0]\n",
    "    losses = y * np.log(yhat) + (1 - y) * np.log(1 - yhat)\n",
    "    cost = -np.sum(losses, axis=0, keepdims=True)/m\n",
    "    return cost"
   ]
  },
  {
   "cell_type": "code",
   "execution_count": 123,
   "metadata": {},
   "outputs": [],
   "source": [
    "def back_prop(y, yhat, inter_vals, X):\n",
    "    m = y.shape[0]\n",
    "    z = inter_vals['z']\n",
    "    dc_dyhat = (-1/m) * ((y/yhat) - ((1-y)/(1-yhat)))\n",
    "    \n",
    "    dyhat_dz = yhat * (1 - yhat)\n",
    "    dc_dz = dc_dyhat * dyhat_dz\n",
    "    print(f'dc_dz shape {dc_dz.shape}')\n",
    "    dc_db = np.sum(dc_dz, axis=0, keepdims=True)\n",
    "    dz_dw = np.sum(X, axis=0, keepdims=True)\n",
    "    print(f'dz_dw shape {dz_dw.shape}')\n",
    "    dc_dw = dc_dz * dz_dw\n",
    "    print('')\n",
    "    #print(f'dz_dw {dz_dw}')\n",
    "    #print(f'dyhat_dz {dyhat_dz}')\n",
    "    #print(f'dc_dyhat {dc_dyhat}')\n",
    "    grads = {'dw':dc_dw, 'db':dc_db}\n",
    "    return grads\n",
    "    "
   ]
  },
  {
   "cell_type": "code",
   "execution_count": 112,
   "metadata": {},
   "outputs": [],
   "source": [
    "def update_params(params, grads, lr=0.1):\n",
    "    w = params['w']\n",
    "    b = params['b']\n",
    "    dw = grads['dw']\n",
    "    db = grads['db']\n",
    "    print(f'w shape {w.shape}')\n",
    "    print(f'dw shape {dw.shape}')\n",
    "    w = w - lr * dw\n",
    "    b = b - lr * db\n",
    "    new_parms = {'w':w,'b':b}\n",
    "    return new_parms"
   ]
  },
  {
   "cell_type": "code",
   "execution_count": 113,
   "metadata": {},
   "outputs": [],
   "source": [
    "def train_loop(epochs, X_train, y_train, lr):\n",
    "    params = initialize_params(X_train)\n",
    "    for epoch in range(epochs):\n",
    "        yhat, inter_vals = forward_prop(X_train, params)\n",
    "        print(f'yhat shape {yhat.shape}')\n",
    "        print(f'z shape {inter_vals['z'].shape}')\n",
    "        cost = calculate_cost(yhat, y_train)\n",
    "        grads = back_prop(y_train, yhat, inter_vals, X_train)\n",
    "        params = update_params(params, grads, lr)\n",
    "        print(f'epoch {epoch} cost {cost}')"
   ]
  },
  {
   "cell_type": "code",
   "execution_count": 114,
   "metadata": {},
   "outputs": [],
   "source": [
    "X_train, X_test, y_train, y_test = load_data()"
   ]
  },
  {
   "cell_type": "code",
   "execution_count": 115,
   "metadata": {},
   "outputs": [
    {
     "data": {
      "text/plain": [
       "(80, 1)"
      ]
     },
     "execution_count": 115,
     "metadata": {},
     "output_type": "execute_result"
    }
   ],
   "source": [
    "y_train.shape"
   ]
  },
  {
   "cell_type": "code",
   "execution_count": 124,
   "metadata": {},
   "outputs": [
    {
     "name": "stdout",
     "output_type": "stream",
     "text": [
      "yhat shape (80, 1)\n",
      "z shape (80, 1)\n",
      "dc_dz shape (80, 1)\n",
      "dz_dw shape (1, 2)\n",
      "\n",
      "w shape (2, 1)\n",
      "dw shape (80, 2)\n"
     ]
    },
    {
     "ename": "ValueError",
     "evalue": "operands could not be broadcast together with shapes (2,1) (80,2) ",
     "output_type": "error",
     "traceback": [
      "\u001b[1;31m---------------------------------------------------------------------------\u001b[0m",
      "\u001b[1;31mValueError\u001b[0m                                Traceback (most recent call last)",
      "Cell \u001b[1;32mIn[124], line 4\u001b[0m\n\u001b[0;32m      1\u001b[0m epochs \u001b[38;5;241m=\u001b[39m \u001b[38;5;241m1000\u001b[39m\n\u001b[0;32m      2\u001b[0m lr \u001b[38;5;241m=\u001b[39m \u001b[38;5;241m0.1\u001b[39m\n\u001b[1;32m----> 4\u001b[0m \u001b[43mtrain_loop\u001b[49m\u001b[43m(\u001b[49m\u001b[43mepochs\u001b[49m\u001b[43m,\u001b[49m\u001b[43m \u001b[49m\u001b[43mX_train\u001b[49m\u001b[43m,\u001b[49m\u001b[43m \u001b[49m\u001b[43my_train\u001b[49m\u001b[43m,\u001b[49m\u001b[43m \u001b[49m\u001b[43mlr\u001b[49m\u001b[43m)\u001b[49m\n",
      "Cell \u001b[1;32mIn[113], line 9\u001b[0m, in \u001b[0;36mtrain_loop\u001b[1;34m(epochs, X_train, y_train, lr)\u001b[0m\n\u001b[0;32m      7\u001b[0m cost \u001b[38;5;241m=\u001b[39m calculate_cost(yhat, y_train)\n\u001b[0;32m      8\u001b[0m grads \u001b[38;5;241m=\u001b[39m back_prop(y_train, yhat, inter_vals, X_train)\n\u001b[1;32m----> 9\u001b[0m params \u001b[38;5;241m=\u001b[39m \u001b[43mupdate_params\u001b[49m\u001b[43m(\u001b[49m\u001b[43mparams\u001b[49m\u001b[43m,\u001b[49m\u001b[43m \u001b[49m\u001b[43mgrads\u001b[49m\u001b[43m,\u001b[49m\u001b[43m \u001b[49m\u001b[43mlr\u001b[49m\u001b[43m)\u001b[49m\n\u001b[0;32m     10\u001b[0m \u001b[38;5;28mprint\u001b[39m(\u001b[38;5;124mf\u001b[39m\u001b[38;5;124m'\u001b[39m\u001b[38;5;124mepoch \u001b[39m\u001b[38;5;132;01m{\u001b[39;00mepoch\u001b[38;5;132;01m}\u001b[39;00m\u001b[38;5;124m cost \u001b[39m\u001b[38;5;132;01m{\u001b[39;00mcost\u001b[38;5;132;01m}\u001b[39;00m\u001b[38;5;124m'\u001b[39m)\n",
      "Cell \u001b[1;32mIn[112], line 8\u001b[0m, in \u001b[0;36mupdate_params\u001b[1;34m(params, grads, lr)\u001b[0m\n\u001b[0;32m      6\u001b[0m \u001b[38;5;28mprint\u001b[39m(\u001b[38;5;124mf\u001b[39m\u001b[38;5;124m'\u001b[39m\u001b[38;5;124mw shape \u001b[39m\u001b[38;5;132;01m{\u001b[39;00mw\u001b[38;5;241m.\u001b[39mshape\u001b[38;5;132;01m}\u001b[39;00m\u001b[38;5;124m'\u001b[39m)\n\u001b[0;32m      7\u001b[0m \u001b[38;5;28mprint\u001b[39m(\u001b[38;5;124mf\u001b[39m\u001b[38;5;124m'\u001b[39m\u001b[38;5;124mdw shape \u001b[39m\u001b[38;5;132;01m{\u001b[39;00mdw\u001b[38;5;241m.\u001b[39mshape\u001b[38;5;132;01m}\u001b[39;00m\u001b[38;5;124m'\u001b[39m)\n\u001b[1;32m----> 8\u001b[0m w \u001b[38;5;241m=\u001b[39m \u001b[43mw\u001b[49m\u001b[43m \u001b[49m\u001b[38;5;241;43m-\u001b[39;49m\u001b[43m \u001b[49m\u001b[43mlr\u001b[49m\u001b[43m \u001b[49m\u001b[38;5;241;43m*\u001b[39;49m\u001b[43m \u001b[49m\u001b[43mdw\u001b[49m\n\u001b[0;32m      9\u001b[0m b \u001b[38;5;241m=\u001b[39m b \u001b[38;5;241m-\u001b[39m lr \u001b[38;5;241m*\u001b[39m db\n\u001b[0;32m     10\u001b[0m new_parms \u001b[38;5;241m=\u001b[39m {\u001b[38;5;124m'\u001b[39m\u001b[38;5;124mw\u001b[39m\u001b[38;5;124m'\u001b[39m:w,\u001b[38;5;124m'\u001b[39m\u001b[38;5;124mb\u001b[39m\u001b[38;5;124m'\u001b[39m:b}\n",
      "\u001b[1;31mValueError\u001b[0m: operands could not be broadcast together with shapes (2,1) (80,2) "
     ]
    }
   ],
   "source": [
    "epochs = 1000\n",
    "lr = 0.1\n",
    "\n",
    "train_loop(epochs, X_train, y_train, lr)"
   ]
  },
  {
   "cell_type": "code",
   "execution_count": null,
   "metadata": {},
   "outputs": [],
   "source": []
  },
  {
   "cell_type": "code",
   "execution_count": 66,
   "metadata": {},
   "outputs": [
    {
     "name": "stdout",
     "output_type": "stream",
     "text": [
      "[[1.075]\n",
      " [0.525]]\n"
     ]
    }
   ],
   "source": [
    "X = np.array([[0.8, 0.9], [0.3, 0.5]])\n",
    "w = np.array([[0.5], [0.75]])\n",
    "b = np.array([[1]])\n",
    "params = {'w':w,'b':b}\n",
    "yhat, inter_vals = forward_prop(X, params)"
   ]
  },
  {
   "cell_type": "code",
   "execution_count": 67,
   "metadata": {},
   "outputs": [
    {
     "data": {
      "text/plain": [
       "array([[0.88844946],\n",
       "       [0.82127358]])"
      ]
     },
     "execution_count": 67,
     "metadata": {},
     "output_type": "execute_result"
    }
   ],
   "source": [
    "yhat"
   ]
  },
  {
   "cell_type": "code",
   "execution_count": 68,
   "metadata": {},
   "outputs": [],
   "source": [
    "y = np.array([[1], [0]])"
   ]
  },
  {
   "cell_type": "code",
   "execution_count": 79,
   "metadata": {},
   "outputs": [
    {
     "name": "stdout",
     "output_type": "stream",
     "text": [
      "cost vs cost2 [[0.92008826]] : 0.920088258659517\n"
     ]
    }
   ],
   "source": [
    "cost = calculate_cost(yhat, y)"
   ]
  },
  {
   "cell_type": "code",
   "execution_count": 70,
   "metadata": {},
   "outputs": [
    {
     "data": {
      "text/plain": [
       "array([[0.92008826]])"
      ]
     },
     "execution_count": 70,
     "metadata": {},
     "output_type": "execute_result"
    }
   ],
   "source": [
    "cost"
   ]
  },
  {
   "cell_type": "code",
   "execution_count": 81,
   "metadata": {},
   "outputs": [
    {
     "name": "stdout",
     "output_type": "stream",
     "text": [
      "dz_dw [[1.7]\n",
      " [0.8]]\n",
      "dyhat_dz [[0.09910702]\n",
      " [0.14678329]]\n",
      "dc_dyhat [[-0.56277821]\n",
      " [ 2.79757178]]\n"
     ]
    }
   ],
   "source": [
    "grads = back_prop(y, yhat, inter_vals, X)"
   ]
  },
  {
   "cell_type": "code",
   "execution_count": 82,
   "metadata": {},
   "outputs": [
    {
     "data": {
      "text/plain": [
       "{'dw': array([[-0.09481796],\n",
       "        [ 0.32850943]]),\n",
       " 'db': array([[0.35486152]])}"
      ]
     },
     "execution_count": 82,
     "metadata": {},
     "output_type": "execute_result"
    }
   ],
   "source": [
    "grads"
   ]
  },
  {
   "cell_type": "code",
   "execution_count": null,
   "metadata": {},
   "outputs": [],
   "source": []
  }
 ],
 "metadata": {
  "kernelspec": {
   "display_name": "project1env",
   "language": "python",
   "name": "python3"
  },
  "language_info": {
   "codemirror_mode": {
    "name": "ipython",
    "version": 3
   },
   "file_extension": ".py",
   "mimetype": "text/x-python",
   "name": "python",
   "nbconvert_exporter": "python",
   "pygments_lexer": "ipython3",
   "version": "3.12.3"
  }
 },
 "nbformat": 4,
 "nbformat_minor": 2
}
