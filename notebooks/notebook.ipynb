{
 "cells": [
  {
   "cell_type": "code",
   "execution_count": 2,
   "metadata": {},
   "outputs": [],
   "source": [
    "import numpy as np\n",
    "import pandas as pd\n",
    "import random\n",
    "from sklearn.model_selection import train_test_split\n",
    "import torch\n",
    "import torch.nn as nn\n",
    "import os\n",
    "import matplotlib.pyplot as plt\n",
    "%matplotlib inline\n",
    "import scipy.stats as stats "
   ]
  },
  {
   "cell_type": "code",
   "execution_count": 3,
   "metadata": {},
   "outputs": [],
   "source": [
    "def load_data():\n",
    "    std_dev = 1\n",
    "    mean = 5\n",
    "    x1 = np.linspace(1, 9, 100)\n",
    "    x2 = np.linspace(3, 11, 100)\n",
    "    y = ((x1 > 6) & (x2 > 9)).astype(int)\n",
    "    X = np.stack((x1, x2), axis=1)\n",
    "    X_train, X_test, y_train, y_test = train_test_split(X, y, train_size=0.8, random_state=10)\n",
    "    y_train = np.reshape(y_train, (y_train.shape[0], 1))\n",
    "    y_test = np.reshape(y_test, (y_test.shape[0], 1))\n",
    "    return X_train, X_test, y_train, y_test"
   ]
  },
  {
   "cell_type": "code",
   "execution_count": 4,
   "metadata": {},
   "outputs": [],
   "source": [
    "def initialize_params(X):\n",
    "    n = X.shape[1]\n",
    "    w = np.random.randn(n, 1) * 0.1\n",
    "    b = np.zeros((1, 1))\n",
    "    params = {'w':w, 'b':b}\n",
    "    return params"
   ]
  },
  {
   "cell_type": "code",
   "execution_count": 5,
   "metadata": {},
   "outputs": [],
   "source": [
    "def sigmoid(z):\n",
    "    a = 1/(1 + np.exp(-z))\n",
    "    return a"
   ]
  },
  {
   "cell_type": "code",
   "execution_count": 6,
   "metadata": {},
   "outputs": [],
   "source": [
    "def forward_prop(X, params):\n",
    "    w = params['w']\n",
    "    b = params['b']\n",
    "    z = X @ w + b\n",
    "    inter_vals = {'z':z}\n",
    "    yhat = sigmoid(z)\n",
    "    return yhat, inter_vals"
   ]
  },
  {
   "cell_type": "code",
   "execution_count": 7,
   "metadata": {},
   "outputs": [],
   "source": [
    "def calculate_cost(yhat, y):\n",
    "    m = y.shape[0]\n",
    "    losses = y * np.log(yhat) + (1 - y) * np.log(1 - yhat)\n",
    "    cost = -np.sum(losses, axis=0, keepdims=True)/m\n",
    "    return cost"
   ]
  },
  {
   "cell_type": "code",
   "execution_count": 76,
   "metadata": {},
   "outputs": [],
   "source": [
    "def back_prop(y, yhat, inter_vals, X):\n",
    "    m = y.shape[0]\n",
    "    z = inter_vals['z']\n",
    "    dc_dyhat = (-1/m) * ((y/yhat) - ((1-y)/(1-yhat)))\n",
    "    \n",
    "    dyhat_dz = sigmoid(z) * (1 - sigmoid(z))\n",
    "    dc_dz = dc_dyhat * dyhat_dz\n",
    "    dc_db = np.sum(dc_dz, axis=0, keepdims=True)\n",
    "    dz_dw = np.sum(X, axis=1, keepdims=True)\n",
    "    dc_dw = dc_dz * dz_dw\n",
    "\n",
    "    print(f'dz_dw {dz_dw}')\n",
    "    print(f'dyhat_dz {dyhat_dz}')\n",
    "    print(f'dc_dyhat {dc_dyhat}')\n",
    "    grads = {'dw':dc_dw, 'db':dc_db}\n",
    "    return grads\n",
    "    "
   ]
  },
  {
   "cell_type": "code",
   "execution_count": 63,
   "metadata": {},
   "outputs": [],
   "source": [
    "X_train, X_test, y_train, y_test = load_data()"
   ]
  },
  {
   "cell_type": "code",
   "execution_count": 64,
   "metadata": {},
   "outputs": [],
   "source": [
    "params = initialize_params(X_train)"
   ]
  },
  {
   "cell_type": "code",
   "execution_count": null,
   "metadata": {},
   "outputs": [],
   "source": [
    "yhat, inter_vals = forward_prop(X_train, params)"
   ]
  },
  {
   "cell_type": "code",
   "execution_count": 66,
   "metadata": {},
   "outputs": [
    {
     "name": "stdout",
     "output_type": "stream",
     "text": [
      "[[1.075]\n",
      " [0.525]]\n"
     ]
    }
   ],
   "source": [
    "X = np.array([[0.8, 0.9], [0.3, 0.5]])\n",
    "w = np.array([[0.5], [0.75]])\n",
    "b = np.array([[1]])\n",
    "params = {'w':w,'b':b}\n",
    "yhat, inter_vals = forward_prop(X, params)"
   ]
  },
  {
   "cell_type": "code",
   "execution_count": 67,
   "metadata": {},
   "outputs": [
    {
     "data": {
      "text/plain": [
       "array([[0.88844946],\n",
       "       [0.82127358]])"
      ]
     },
     "execution_count": 67,
     "metadata": {},
     "output_type": "execute_result"
    }
   ],
   "source": [
    "yhat"
   ]
  },
  {
   "cell_type": "code",
   "execution_count": 68,
   "metadata": {},
   "outputs": [],
   "source": [
    "y = np.array([[1], [0]])"
   ]
  },
  {
   "cell_type": "code",
   "execution_count": 69,
   "metadata": {},
   "outputs": [
    {
     "name": "stdout",
     "output_type": "stream",
     "text": [
      "losses [[-0.11827752]\n",
      " [-1.721899  ]]\n"
     ]
    }
   ],
   "source": [
    "cost = calculate_cost(yhat, y)"
   ]
  },
  {
   "cell_type": "code",
   "execution_count": 70,
   "metadata": {},
   "outputs": [
    {
     "data": {
      "text/plain": [
       "array([[0.92008826]])"
      ]
     },
     "execution_count": 70,
     "metadata": {},
     "output_type": "execute_result"
    }
   ],
   "source": [
    "cost"
   ]
  },
  {
   "cell_type": "code",
   "execution_count": 77,
   "metadata": {},
   "outputs": [
    {
     "name": "stdout",
     "output_type": "stream",
     "text": [
      "dz_dw [[1.7]\n",
      " [0.8]]\n",
      "dyhat_dz [[0.09910702]\n",
      " [0.14678329]]\n",
      "dc_dyhat [[-0.56277821]\n",
      " [ 2.79757178]]\n"
     ]
    }
   ],
   "source": [
    "grads = back_prop(y, yhat, inter_vals, X)"
   ]
  },
  {
   "cell_type": "code",
   "execution_count": 74,
   "metadata": {},
   "outputs": [
    {
     "data": {
      "text/plain": [
       "{'dw': array([[-0.09481796],\n",
       "        [ 0.32850943]]),\n",
       " 'db': array([[0.35486152]])}"
      ]
     },
     "execution_count": 74,
     "metadata": {},
     "output_type": "execute_result"
    }
   ],
   "source": [
    "grads"
   ]
  },
  {
   "cell_type": "code",
   "execution_count": null,
   "metadata": {},
   "outputs": [],
   "source": []
  }
 ],
 "metadata": {
  "kernelspec": {
   "display_name": "project1env",
   "language": "python",
   "name": "python3"
  },
  "language_info": {
   "codemirror_mode": {
    "name": "ipython",
    "version": 3
   },
   "file_extension": ".py",
   "mimetype": "text/x-python",
   "name": "python",
   "nbconvert_exporter": "python",
   "pygments_lexer": "ipython3",
   "version": "3.12.3"
  }
 },
 "nbformat": 4,
 "nbformat_minor": 2
}
