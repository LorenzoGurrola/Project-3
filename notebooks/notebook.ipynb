{
 "cells": [
  {
   "cell_type": "code",
   "execution_count": 1,
   "metadata": {},
   "outputs": [],
   "source": [
    "import numpy as np\n",
    "import pandas as pd\n",
    "import random\n",
    "from sklearn.model_selection import train_test_split\n",
    "import torch\n",
    "import torch.nn as nn\n",
    "import os\n",
    "import matplotlib.pyplot as plt\n",
    "%matplotlib inline\n",
    "import scipy.stats as stats "
   ]
  },
  {
   "cell_type": "code",
   "execution_count": 154,
   "metadata": {},
   "outputs": [],
   "source": [
    "def load_data():\n",
    "    mean = 5\n",
    "    std_dev = 1\n",
    "    x = np.linspace(mean - 4*std_dev, mean + 4*std_dev, 100)\n",
    "    x_train, x_test = train_test_split(x, train_size=0.8, random_state=10)\n",
    "    y_train = (x_train>6).astype(int)\n",
    "    y_test = (x_test>6).astype(int)\n",
    "\n",
    "    x_train = np.reshape(x_train, (x_train.shape[0], 1))\n",
    "    y_train = np.reshape(y_train, (y_train.shape[0], 1))\n",
    "    x_test = np.reshape(x_test, (x_test.shape[0], 1))\n",
    "    y_test = np.reshape(y_test, (y_test.shape[0], 1))\n",
    "\n",
    "    data = {'x_train':x_train, 'y_train':y_train, 'x_test':x_test, 'y_test':y_test}\n",
    "    return data"
   ]
  },
  {
   "cell_type": "code",
   "execution_count": 4,
   "metadata": {},
   "outputs": [],
   "source": [
    "def sigmoid(z):\n",
    "    a = 1/(1 + np.exp(-z))\n",
    "    return a"
   ]
  },
  {
   "cell_type": "code",
   "execution_count": 5,
   "metadata": {},
   "outputs": [],
   "source": [
    "def forward_prop(x, params):\n",
    "    w, b = params['w'], params['b']\n",
    "    z = np.matmul(x, w) + b\n",
    "    inter_vals = {'z':z}\n",
    "    yhat = sigmoid(z)\n",
    "    return yhat, inter_vals"
   ]
  },
  {
   "cell_type": "code",
   "execution_count": 6,
   "metadata": {},
   "outputs": [],
   "source": [
    "def calculate_cost(yhat, y):\n",
    "    m = y.shape[0]\n",
    "    losses = (y * np.log(yhat)) + ((1 - y) * np.log(1 - yhat))\n",
    "    cost = -np.sum(losses, axis=0, keepdims=True)/m\n",
    "    return cost"
   ]
  },
  {
   "cell_type": "code",
   "execution_count": 57,
   "metadata": {},
   "outputs": [],
   "source": [
    "def back_prop(x, yhat, y, inter_vals):\n",
    "    m = y.shape[0]\n",
    "    z = inter_vals['z']\n",
    "    dc_dyhat = (-1/m) * ((y/yhat) - ((1-y)/(1-yhat)))\n",
    "    dyhat_dz = sigmoid(z) * (1 - sigmoid(z))\n",
    "    dz_dc = dyhat_dz * dc_dyhat\n",
    "    dw_dc = np.sum(dz_dc * x, axis=0, keepdims=True)\n",
    "    db_dc = np.sum(dz_dc, axis=0, keepdims=True)\n",
    "    assert dw_dc.shape == (1,1)\n",
    "    assert db_dc.shape == (1,1)\n",
    "    grads = {'dw':dw_dc, 'db':db_dc}\n",
    "    return grads"
   ]
  },
  {
   "cell_type": "code",
   "execution_count": 58,
   "metadata": {},
   "outputs": [],
   "source": [
    "def update_params(params, grads, lr):\n",
    "    w = params['w']\n",
    "    b = params['b']\n",
    "    dw = grads['dw']\n",
    "    db = grads['db']\n",
    "    w = w - lr * dw\n",
    "    b = b - lr * db\n",
    "    new_params = {'w':w,'b':b}\n",
    "    return new_params"
   ]
  },
  {
   "cell_type": "code",
   "execution_count": 109,
   "metadata": {},
   "outputs": [],
   "source": [
    "def save_params(model, params):\n",
    "    path = '../src/models/' + model\n",
    "    for p in params:\n",
    "        param_path = path + '/' + p + '.npy'\n",
    "        np.save(param_path, params[p])"
   ]
  },
  {
   "cell_type": "code",
   "execution_count": 175,
   "metadata": {},
   "outputs": [],
   "source": [
    "def load_params(model, logging):\n",
    "    w = np.random.rand(1,1) * 0.1\n",
    "    b = np.zeros((1,1))\n",
    "    params = {'w':w,'b':b}\n",
    "    path = '../src/models/' + model\n",
    "\n",
    "    if not os.path.exists(path):\n",
    "        os.makedirs(path)\n",
    "        if(logging):\n",
    "            print(f'created new model {model}')\n",
    "        return params\n",
    "    else:\n",
    "        for p in params:\n",
    "            try: \n",
    "                param_path = path + '/' + p + '.npy'\n",
    "                params[p] = np.load(param_path)\n",
    "                if(logging):\n",
    "                    print(f'loaded param {p} with value {params[p]}')\n",
    "            except FileNotFoundError:\n",
    "                pass\n",
    "\n",
    "    return params"
   ]
  },
  {
   "cell_type": "code",
   "execution_count": 176,
   "metadata": {},
   "outputs": [],
   "source": [
    "def train(model, data, epochs, lr, logging):\n",
    "    x_train = data['x_train']\n",
    "    y_train = data['y_train']\n",
    "    params = load_params(model, logging)\n",
    "    for epoch in range(epochs):\n",
    "        yhat, inter_vals = forward_prop(x_train, params)\n",
    "        cost = calculate_cost(yhat, y_train)\n",
    "        grads = back_prop(x_train, yhat, y_train, inter_vals)\n",
    "        params = update_params(params, grads, lr)\n",
    "        if(logging):\n",
    "            print(f'epoch {epoch} cost {cost}')\n",
    "    save_params(model, params)\n",
    "    if(logging):\n",
    "        print(f'params {params}')"
   ]
  },
  {
   "cell_type": "code",
   "execution_count": 179,
   "metadata": {},
   "outputs": [
    {
     "name": "stdout",
     "output_type": "stream",
     "text": [
      "loaded param w with value [[0.08901133]]\n",
      "loaded param b with value [[-0.04514676]]\n",
      "epoch 0 cost [[0.67218144]]\n",
      "epoch 1 cost [[0.66458824]]\n",
      "epoch 2 cost [[0.65839766]]\n",
      "epoch 3 cost [[0.65308042]]\n",
      "epoch 4 cost [[0.65131547]]\n",
      "epoch 5 cost [[0.6492842]]\n",
      "epoch 6 cost [[0.65611581]]\n",
      "epoch 7 cost [[0.65467974]]\n",
      "epoch 8 cost [[0.67311002]]\n",
      "epoch 9 cost [[0.66101686]]\n",
      "epoch 10 cost [[0.68774338]]\n",
      "epoch 11 cost [[0.6568323]]\n",
      "epoch 12 cost [[0.68592926]]\n",
      "epoch 13 cost [[0.6437284]]\n",
      "epoch 14 cost [[0.67209635]]\n",
      "epoch 15 cost [[0.62770948]]\n",
      "epoch 16 cost [[0.6543133]]\n",
      "epoch 17 cost [[0.61136435]]\n",
      "epoch 18 cost [[0.63585999]]\n",
      "epoch 19 cost [[0.59538457]]\n",
      "epoch 20 cost [[0.61763607]]\n",
      "epoch 21 cost [[0.57992929]]\n",
      "epoch 22 cost [[0.59987976]]\n",
      "epoch 23 cost [[0.56502554]]\n",
      "epoch 24 cost [[0.58266261]]\n",
      "epoch 25 cost [[0.55066741]]\n",
      "epoch 26 cost [[0.56601261]]\n",
      "epoch 27 cost [[0.53684123]]\n",
      "epoch 28 cost [[0.5499456]]\n",
      "epoch 29 cost [[0.52353253]]\n",
      "epoch 30 cost [[0.53447394]]\n",
      "epoch 31 cost [[0.51072822]]\n",
      "epoch 32 cost [[0.51960921]]\n",
      "epoch 33 cost [[0.4984176]]\n",
      "epoch 34 cost [[0.50536324]]\n",
      "epoch 35 cost [[0.48659283]]\n",
      "epoch 36 cost [[0.49174855]]\n",
      "epoch 37 cost [[0.47524934]]\n",
      "epoch 38 cost [[0.47877851]]\n",
      "epoch 39 cost [[0.46438608]]\n",
      "epoch 40 cost [[0.4664672]]\n",
      "epoch 41 cost [[0.45400563]]\n",
      "epoch 42 cost [[0.45482896]]\n",
      "epoch 43 cost [[0.444114]]\n",
      "epoch 44 cost [[0.44387751]]\n",
      "epoch 45 cost [[0.43472009]]\n",
      "epoch 46 cost [[0.43362442]]\n",
      "epoch 47 cost [[0.42583452]]\n",
      "epoch 48 cost [[0.42407702]]\n",
      "epoch 49 cost [[0.41746777]]\n",
      "epoch 50 cost [[0.41523574]]\n",
      "epoch 51 cost [[0.40962762]]\n",
      "epoch 52 cost [[0.40709109]]\n",
      "epoch 53 cost [[0.40231597]]\n",
      "epoch 54 cost [[0.39962095]]\n",
      "epoch 55 cost [[0.3955256]]\n",
      "epoch 56 cost [[0.39278872]]\n",
      "epoch 57 cost [[0.38923752]]\n",
      "epoch 58 cost [[0.38654336]]\n",
      "epoch 59 cost [[0.38341992]]\n",
      "epoch 60 cost [[0.38082176]]\n",
      "epoch 61 cost [[0.37802931]]\n",
      "epoch 62 cost [[0.37555323]]\n",
      "epoch 63 cost [[0.37301403]]\n",
      "epoch 64 cost [[0.37066563]]\n",
      "epoch 65 cost [[0.3683193]]\n",
      "epoch 66 cost [[0.36609124]]\n",
      "epoch 67 cost [[0.3638926]]\n",
      "epoch 68 cost [[0.36177148]]\n",
      "epoch 69 cost [[0.3596879]]\n",
      "epoch 70 cost [[0.35765925]]\n",
      "epoch 71 cost [[0.35566798]]\n",
      "epoch 72 cost [[0.35371905]]\n",
      "epoch 73 cost [[0.35180469]]\n",
      "epoch 74 cost [[0.34992547]]\n",
      "epoch 75 cost [[0.34807776]]\n",
      "epoch 76 cost [[0.34626089]]\n",
      "epoch 77 cost [[0.34447296]]\n",
      "epoch 78 cost [[0.34271313]]\n",
      "epoch 79 cost [[0.34098025]]\n",
      "epoch 80 cost [[0.33927355]]\n",
      "epoch 81 cost [[0.33759224]]\n",
      "epoch 82 cost [[0.33593566]]\n",
      "epoch 83 cost [[0.33430316]]\n",
      "epoch 84 cost [[0.33269419]]\n",
      "epoch 85 cost [[0.33110819]]\n",
      "epoch 86 cost [[0.32954464]]\n",
      "epoch 87 cost [[0.32800305]]\n",
      "epoch 88 cost [[0.32648295]]\n",
      "epoch 89 cost [[0.32498388]]\n",
      "epoch 90 cost [[0.32350538]]\n",
      "epoch 91 cost [[0.32204704]]\n",
      "epoch 92 cost [[0.32060842]]\n",
      "epoch 93 cost [[0.31918913]]\n",
      "epoch 94 cost [[0.31778876]]\n",
      "epoch 95 cost [[0.31640694]]\n",
      "epoch 96 cost [[0.31504328]]\n",
      "epoch 97 cost [[0.31369742]]\n",
      "epoch 98 cost [[0.312369]]\n",
      "epoch 99 cost [[0.31105768]]\n",
      "params {'w': array([[0.58942218]]), 'b': array([[-3.19628105]])}\n"
     ]
    }
   ],
   "source": [
    "model = 'model5'\n",
    "epochs = 100\n",
    "lr = 0.3\n",
    "logging = True\n",
    "\n",
    "\n",
    "data = load_data()\n",
    "train(model, data, epochs, lr, logging)"
   ]
  },
  {
   "cell_type": "code",
   "execution_count": 180,
   "metadata": {},
   "outputs": [
    {
     "name": "stdout",
     "output_type": "stream",
     "text": [
      "loaded param w with value [[0.58942218]]\n",
      "loaded param b with value [[-3.19628105]]\n"
     ]
    },
    {
     "data": {
      "text/plain": [
       "(-0.5, 1.5)"
      ]
     },
     "execution_count": 180,
     "metadata": {},
     "output_type": "execute_result"
    },
    {
     "data": {
      "image/png": "[encoded data removed]",
      "text/plain": [
       "<Figure size 640x480 with 1 Axes>"
      ]
     },
     "metadata": {},
     "output_type": "display_data"
    }
   ],
   "source": [
    "model = 'model5'\n",
    "x = data['x_train']\n",
    "y = data['y_train']\n",
    "plt.scatter(x, y)\n",
    "params = load_params(model, logging=True)\n",
    "w = params['w']\n",
    "b = params['b']\n",
    "line = w*x + b\n",
    "plt.plot(x, line, color='red', linestyle='-', linewidth=2, label='wx+b')\n",
    "plt.xlim(0.8, 9.2)\n",
    "plt.ylim(-0.5, 1.5)"
   ]
  },
  {
   "cell_type": "code",
   "execution_count": null,
   "metadata": {},
   "outputs": [],
   "source": []
  }
 ],
 "metadata": {
  "kernelspec": {
   "display_name": "project1env",
   "language": "python",
   "name": "python3"
  },
  "language_info": {
   "codemirror_mode": {
    "name": "ipython",
    "version": 3
   },
   "file_extension": ".py",
   "mimetype": "text/x-python",
   "name": "python",
   "nbconvert_exporter": "python",
   "pygments_lexer": "ipython3",
   "version": "3.12.3"
  }
 },
 "nbformat": 4,
 "nbformat_minor": 2
}
