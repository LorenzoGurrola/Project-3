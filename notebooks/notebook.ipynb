{
 "cells": [
  {
   "cell_type": "code",
   "execution_count": 1,
   "metadata": {},
   "outputs": [],
   "source": [
    "import numpy as np\n",
    "import pandas as pd\n",
    "import random\n",
    "from sklearn.model_selection import train_test_split\n",
    "import torch\n",
    "import torch.nn as nn\n",
    "import os\n",
    "import matplotlib.pyplot as plt\n",
    "%matplotlib inline\n",
    "import scipy.stats as stats "
   ]
  },
  {
   "cell_type": "code",
   "execution_count": 12,
   "metadata": {},
   "outputs": [],
   "source": [
    "class Scaler:\n",
    "    def __init__(self):\n",
    "        self.params = {}\n",
    "    \n",
    "    def fit(self, data):\n",
    "        self.params['mean'] = np.mean(data)\n",
    "        self.params['std_dev'] = np.std(data)\n",
    "    \n",
    "    def standardize(self, data):\n",
    "        return (data - self.params['mean'])/self.params['std_dev']\n",
    "    \n",
    "    def fit_standardize(self, data):\n",
    "        self.fit(data)\n",
    "        return self.standardize(data)\n",
    "\n",
    "    def unstandardize(self, data):\n",
    "        return (data * self.params['std_dev']) + self.params['mean']"
   ]
  },
  {
   "cell_type": "code",
   "execution_count": 14,
   "metadata": {},
   "outputs": [],
   "source": [
    "def one_hot_encode(data):\n",
    "    data = [str(item) for item in data]\n",
    "    unique_category = sorted(set(data))\n",
    "    category_index = {category : index for index, category in enumerate(unique_category)}\n",
    "    one_hot_matrix = []\n",
    "    for item in data:\n",
    "        one_hot_vector = [0] * len(unique_category)\n",
    "        index = category_index[item]\n",
    "        one_hot_vector[index] = 1\n",
    "        one_hot_matrix.append(one_hot_vector)\n",
    "    one_hot_matrix = np.array(one_hot_matrix)\n",
    "    return one_hot_matrix, category_index"
   ]
  },
  {
   "cell_type": "code",
   "execution_count": 3,
   "metadata": {},
   "outputs": [],
   "source": [
    "def get_features(data):\n",
    "    \n",
    "    x1 = np.array(data['male'])\n",
    "    x1 = np.reshape(x1, (x1.shape[0], 1))\n",
    "\n",
    "    x2 = np.array(data['age'])\n",
    "    x2 = np.reshape(x2, (x2.shape[0], 1))\n",
    "    scaler_x2 = Scaler()\n",
    "    x2 = scaler_x2.fit_standardize(x2)\n",
    "\n",
    "    x3 = np.array(data['currentSmoker'])\n",
    "    x3 = np.reshape(x3, (x3.shape[0], 1))\n",
    "\n",
    "    x4 = np.array(data['cigsPerDay'])\n",
    "    x4 = np.reshape(x4, (x4.shape[0], 1))\n",
    "    scaler_x4 = Scaler()\n",
    "    x4 = scaler_x4.fit_standardize(x4)\n",
    "\n",
    "    x5 = np.array(data['BPMeds'])\n",
    "    x5 = np.reshape(x5, (x5.shape[0], 1))\n",
    "    \n",
    "    x6 = np.array(data['prevalentStroke'])\n",
    "    x6 = np.reshape(x6, (x6.shape[0], 1))\n",
    "\n",
    "    x7 = np.array(data['prevalentHyp'])\n",
    "    x7 = np.reshape(x7, (x7.shape[0], 1))\n",
    "    \n",
    "    x8 = np.array(data['diabetes'])\n",
    "    x8 = np.reshape(x8, (x8.shape[0], 1))\n",
    "\n",
    "    x9 = np.array(data['totChol'])\n",
    "    x9 = np.reshape(x9, (x9.shape[0], 1))\n",
    "    scaler_x9 = Scaler()\n",
    "    x9 = scaler_x9.fit_standardize(x9)\n",
    "\n",
    "    x10 = np.array(data['sysBP'])\n",
    "    x10 = np.reshape(x10, (x10.shape[0], 1))\n",
    "    scaler_x10 = Scaler()\n",
    "    x10 = scaler_x10.fit_standardize(x10)\n",
    "\n",
    "    x11 = np.array(data['diaBP'])\n",
    "    x11 = np.reshape(x11, (x11.shape[0], 1))\n",
    "    scaler_x11 = Scaler()\n",
    "    x11 = scaler_x11.fit_standardize(x11)\n",
    "\n",
    "    x12 = np.array(data['BMI'])\n",
    "    x12 = np.reshape(x12, (x12.shape[0], 1))\n",
    "    scaler_x12 = Scaler()\n",
    "    x12 = scaler_x12.fit_standardize(x12)\n",
    "\n",
    "    x13 = np.array(data['heartRate'])\n",
    "    x13 = np.reshape(x13, (x13.shape[0], 1))\n",
    "    scaler_x13 = Scaler()\n",
    "    x13 = scaler_x13.fit_standardize(x13)\n",
    "\n",
    "    x14 = np.array(data['glucose'])\n",
    "    x14 = np.reshape(x14, (x14.shape[0], 1))\n",
    "    scaler_x14 = Scaler()\n",
    "    x14 = scaler_x14.fit_standardize(x14)\n",
    "\n",
    "    x15 = np.array(data['education'])\n",
    "    x3 = np.reshape(x3, (x3.shape[0], 1))\n",
    "\n",
    "    X = [x1, x2, x3, x4, x5, x6, x7, x8, x9, x10, x11, x12, x13, x14, x15]\n",
    "    X = np.hstack(X)\n",
    "\n",
    "    y = np.array(data['TenYearCHD'])\n",
    "    y = np.reshape(y, (y.shape[0], 1))\n",
    "    \n",
    "    return X, y"
   ]
  },
  {
   "cell_type": "code",
   "execution_count": 4,
   "metadata": {},
   "outputs": [],
   "source": [
    "def load_data():\n",
    "    data = pd.read_csv('../framingham.csv')\n",
    "    data = data.dropna()\n",
    "    train, test = train_test_split(data, train_size=0.85, random_state=10)\n",
    "    return train, test"
   ]
  },
  {
   "cell_type": "code",
   "execution_count": 5,
   "metadata": {},
   "outputs": [
    {
     "data": {
      "text/plain": [
       "(3107, 16)"
      ]
     },
     "execution_count": 5,
     "metadata": {},
     "output_type": "execute_result"
    }
   ],
   "source": [
    "train, test = load_data()\n",
    "train.shape"
   ]
  },
  {
   "cell_type": "code",
   "execution_count": 6,
   "metadata": {},
   "outputs": [],
   "source": [
    "X_train, y_train = get_features(train)"
   ]
  },
  {
   "cell_type": "code",
   "execution_count": 7,
   "metadata": {},
   "outputs": [
    {
     "data": {
      "text/plain": [
       "(3107, 15)"
      ]
     },
     "execution_count": 7,
     "metadata": {},
     "output_type": "execute_result"
    }
   ],
   "source": [
    "X_train.shape"
   ]
  },
  {
   "cell_type": "code",
   "execution_count": 8,
   "metadata": {},
   "outputs": [],
   "source": [
    "X_test, y_test = get_features(test)"
   ]
  },
  {
   "cell_type": "code",
   "execution_count": 9,
   "metadata": {},
   "outputs": [
    {
     "data": {
      "text/plain": [
       "(549, 15)"
      ]
     },
     "execution_count": 9,
     "metadata": {},
     "output_type": "execute_result"
    }
   ],
   "source": [
    "X_test.shape"
   ]
  },
  {
   "cell_type": "code",
   "execution_count": 11,
   "metadata": {},
   "outputs": [
    {
     "data": {
      "text/plain": [
       "array([[ 1.        ,  1.45632121,  4.        , ..., -0.24814503,\n",
       "        -0.31840178, -0.40621065],\n",
       "       [ 1.        ,  1.45632121,  1.        , ...,  0.04271922,\n",
       "         2.42174032, -0.24199277],\n",
       "       [ 1.        ,  0.8710576 ,  3.        , ..., -0.15361415,\n",
       "         0.92711736,  0.78436895],\n",
       "       ...,\n",
       "       [ 0.        ,  0.51989944,  1.        , ..., -0.4759887 ,\n",
       "        -0.65054022,  0.04538851],\n",
       "       [ 0.        , -0.29946961,  2.        , ...,  0.39902794,\n",
       "        -1.31481709,  0.4559332 ],\n",
       "       [ 1.        , -1.46999683,  4.        , ..., -0.46144548,\n",
       "         1.01015197,  0.04538851]])"
      ]
     },
     "execution_count": 11,
     "metadata": {},
     "output_type": "execute_result"
    }
   ],
   "source": [
    "X_train"
   ]
  },
  {
   "cell_type": "code",
   "execution_count": 8,
   "metadata": {},
   "outputs": [
    {
     "data": {
      "text/html": [
       "<div>\n",
       "<style scoped>\n",
       "    .dataframe tbody tr th:only-of-type {\n",
       "        vertical-align: middle;\n",
       "    }\n",
       "\n",
       "    .dataframe tbody tr th {\n",
       "        vertical-align: top;\n",
       "    }\n",
       "\n",
       "    .dataframe thead th {\n",
       "        text-align: right;\n",
       "    }\n",
       "</style>\n",
       "<table border=\"1\" class=\"dataframe\">\n",
       "  <thead>\n",
       "    <tr style=\"text-align: right;\">\n",
       "      <th></th>\n",
       "      <th>male</th>\n",
       "      <th>age</th>\n",
       "      <th>education</th>\n",
       "      <th>currentSmoker</th>\n",
       "      <th>cigsPerDay</th>\n",
       "      <th>BPMeds</th>\n",
       "      <th>prevalentStroke</th>\n",
       "      <th>prevalentHyp</th>\n",
       "      <th>diabetes</th>\n",
       "      <th>totChol</th>\n",
       "      <th>sysBP</th>\n",
       "      <th>diaBP</th>\n",
       "      <th>BMI</th>\n",
       "      <th>heartRate</th>\n",
       "      <th>glucose</th>\n",
       "      <th>TenYearCHD</th>\n",
       "    </tr>\n",
       "  </thead>\n",
       "  <tbody>\n",
       "    <tr>\n",
       "      <th>726</th>\n",
       "      <td>1</td>\n",
       "      <td>62</td>\n",
       "      <td>4.0</td>\n",
       "      <td>1</td>\n",
       "      <td>20.0</td>\n",
       "      <td>0.0</td>\n",
       "      <td>0</td>\n",
       "      <td>0</td>\n",
       "      <td>0</td>\n",
       "      <td>292.0</td>\n",
       "      <td>130.0</td>\n",
       "      <td>77.5</td>\n",
       "      <td>24.75</td>\n",
       "      <td>72.0</td>\n",
       "      <td>72.0</td>\n",
       "      <td>0</td>\n",
       "    </tr>\n",
       "    <tr>\n",
       "      <th>1783</th>\n",
       "      <td>1</td>\n",
       "      <td>62</td>\n",
       "      <td>1.0</td>\n",
       "      <td>1</td>\n",
       "      <td>10.0</td>\n",
       "      <td>0.0</td>\n",
       "      <td>0</td>\n",
       "      <td>0</td>\n",
       "      <td>0</td>\n",
       "      <td>157.0</td>\n",
       "      <td>134.0</td>\n",
       "      <td>84.0</td>\n",
       "      <td>25.95</td>\n",
       "      <td>105.0</td>\n",
       "      <td>76.0</td>\n",
       "      <td>1</td>\n",
       "    </tr>\n",
       "    <tr>\n",
       "      <th>2061</th>\n",
       "      <td>1</td>\n",
       "      <td>57</td>\n",
       "      <td>3.0</td>\n",
       "      <td>1</td>\n",
       "      <td>20.0</td>\n",
       "      <td>0.0</td>\n",
       "      <td>0</td>\n",
       "      <td>0</td>\n",
       "      <td>0</td>\n",
       "      <td>257.0</td>\n",
       "      <td>138.5</td>\n",
       "      <td>90.0</td>\n",
       "      <td>25.14</td>\n",
       "      <td>87.0</td>\n",
       "      <td>101.0</td>\n",
       "      <td>0</td>\n",
       "    </tr>\n",
       "    <tr>\n",
       "      <th>3178</th>\n",
       "      <td>0</td>\n",
       "      <td>49</td>\n",
       "      <td>3.0</td>\n",
       "      <td>0</td>\n",
       "      <td>0.0</td>\n",
       "      <td>0.0</td>\n",
       "      <td>0</td>\n",
       "      <td>0</td>\n",
       "      <td>0</td>\n",
       "      <td>278.0</td>\n",
       "      <td>131.0</td>\n",
       "      <td>93.0</td>\n",
       "      <td>31.40</td>\n",
       "      <td>80.0</td>\n",
       "      <td>66.0</td>\n",
       "      <td>0</td>\n",
       "    </tr>\n",
       "    <tr>\n",
       "      <th>290</th>\n",
       "      <td>0</td>\n",
       "      <td>44</td>\n",
       "      <td>3.0</td>\n",
       "      <td>0</td>\n",
       "      <td>0.0</td>\n",
       "      <td>0.0</td>\n",
       "      <td>0</td>\n",
       "      <td>0</td>\n",
       "      <td>0</td>\n",
       "      <td>270.0</td>\n",
       "      <td>131.5</td>\n",
       "      <td>76.0</td>\n",
       "      <td>22.19</td>\n",
       "      <td>68.0</td>\n",
       "      <td>113.0</td>\n",
       "      <td>0</td>\n",
       "    </tr>\n",
       "    <tr>\n",
       "      <th>1173</th>\n",
       "      <td>0</td>\n",
       "      <td>36</td>\n",
       "      <td>3.0</td>\n",
       "      <td>0</td>\n",
       "      <td>0.0</td>\n",
       "      <td>0.0</td>\n",
       "      <td>0</td>\n",
       "      <td>0</td>\n",
       "      <td>0</td>\n",
       "      <td>185.0</td>\n",
       "      <td>123.0</td>\n",
       "      <td>69.0</td>\n",
       "      <td>18.98</td>\n",
       "      <td>79.0</td>\n",
       "      <td>75.0</td>\n",
       "      <td>0</td>\n",
       "    </tr>\n",
       "    <tr>\n",
       "      <th>908</th>\n",
       "      <td>1</td>\n",
       "      <td>64</td>\n",
       "      <td>2.0</td>\n",
       "      <td>1</td>\n",
       "      <td>40.0</td>\n",
       "      <td>0.0</td>\n",
       "      <td>0</td>\n",
       "      <td>0</td>\n",
       "      <td>0</td>\n",
       "      <td>206.0</td>\n",
       "      <td>126.0</td>\n",
       "      <td>82.0</td>\n",
       "      <td>24.35</td>\n",
       "      <td>95.0</td>\n",
       "      <td>97.0</td>\n",
       "      <td>0</td>\n",
       "    </tr>\n",
       "    <tr>\n",
       "      <th>3686</th>\n",
       "      <td>0</td>\n",
       "      <td>51</td>\n",
       "      <td>2.0</td>\n",
       "      <td>1</td>\n",
       "      <td>5.0</td>\n",
       "      <td>0.0</td>\n",
       "      <td>0</td>\n",
       "      <td>0</td>\n",
       "      <td>0</td>\n",
       "      <td>315.0</td>\n",
       "      <td>119.0</td>\n",
       "      <td>75.0</td>\n",
       "      <td>25.79</td>\n",
       "      <td>75.0</td>\n",
       "      <td>55.0</td>\n",
       "      <td>0</td>\n",
       "    </tr>\n",
       "    <tr>\n",
       "      <th>2499</th>\n",
       "      <td>0</td>\n",
       "      <td>46</td>\n",
       "      <td>2.0</td>\n",
       "      <td>1</td>\n",
       "      <td>15.0</td>\n",
       "      <td>0.0</td>\n",
       "      <td>0</td>\n",
       "      <td>0</td>\n",
       "      <td>0</td>\n",
       "      <td>232.0</td>\n",
       "      <td>115.0</td>\n",
       "      <td>70.0</td>\n",
       "      <td>25.18</td>\n",
       "      <td>75.0</td>\n",
       "      <td>59.0</td>\n",
       "      <td>1</td>\n",
       "    </tr>\n",
       "    <tr>\n",
       "      <th>892</th>\n",
       "      <td>1</td>\n",
       "      <td>38</td>\n",
       "      <td>1.0</td>\n",
       "      <td>1</td>\n",
       "      <td>15.0</td>\n",
       "      <td>0.0</td>\n",
       "      <td>0</td>\n",
       "      <td>0</td>\n",
       "      <td>0</td>\n",
       "      <td>180.0</td>\n",
       "      <td>111.0</td>\n",
       "      <td>61.0</td>\n",
       "      <td>21.51</td>\n",
       "      <td>66.0</td>\n",
       "      <td>75.0</td>\n",
       "      <td>0</td>\n",
       "    </tr>\n",
       "  </tbody>\n",
       "</table>\n",
       "</div>"
      ],
      "text/plain": [
       "      male  age  education  currentSmoker  cigsPerDay  BPMeds  \\\n",
       "726      1   62        4.0              1        20.0     0.0   \n",
       "1783     1   62        1.0              1        10.0     0.0   \n",
       "2061     1   57        3.0              1        20.0     0.0   \n",
       "3178     0   49        3.0              0         0.0     0.0   \n",
       "290      0   44        3.0              0         0.0     0.0   \n",
       "1173     0   36        3.0              0         0.0     0.0   \n",
       "908      1   64        2.0              1        40.0     0.0   \n",
       "3686     0   51        2.0              1         5.0     0.0   \n",
       "2499     0   46        2.0              1        15.0     0.0   \n",
       "892      1   38        1.0              1        15.0     0.0   \n",
       "\n",
       "      prevalentStroke  prevalentHyp  diabetes  totChol  sysBP  diaBP    BMI  \\\n",
       "726                 0             0         0    292.0  130.0   77.5  24.75   \n",
       "1783                0             0         0    157.0  134.0   84.0  25.95   \n",
       "2061                0             0         0    257.0  138.5   90.0  25.14   \n",
       "3178                0             0         0    278.0  131.0   93.0  31.40   \n",
       "290                 0             0         0    270.0  131.5   76.0  22.19   \n",
       "1173                0             0         0    185.0  123.0   69.0  18.98   \n",
       "908                 0             0         0    206.0  126.0   82.0  24.35   \n",
       "3686                0             0         0    315.0  119.0   75.0  25.79   \n",
       "2499                0             0         0    232.0  115.0   70.0  25.18   \n",
       "892                 0             0         0    180.0  111.0   61.0  21.51   \n",
       "\n",
       "      heartRate  glucose  TenYearCHD  \n",
       "726        72.0     72.0           0  \n",
       "1783      105.0     76.0           1  \n",
       "2061       87.0    101.0           0  \n",
       "3178       80.0     66.0           0  \n",
       "290        68.0    113.0           0  \n",
       "1173       79.0     75.0           0  \n",
       "908        95.0     97.0           0  \n",
       "3686       75.0     55.0           0  \n",
       "2499       75.0     59.0           1  \n",
       "892        66.0     75.0           0  "
      ]
     },
     "execution_count": 8,
     "metadata": {},
     "output_type": "execute_result"
    }
   ],
   "source": [
    "train.head(10)"
   ]
  },
  {
   "cell_type": "code",
   "execution_count": 70,
   "metadata": {},
   "outputs": [],
   "source": [
    "def initialize_params(X):\n",
    "    n = X.shape[1]\n",
    "    w = np.random.randn(n, 1) * 0.1\n",
    "    b = np.zeros((1, 1))\n",
    "    params = {'w':w, 'b':b}\n",
    "    return params"
   ]
  },
  {
   "cell_type": "code",
   "execution_count": 71,
   "metadata": {},
   "outputs": [],
   "source": [
    "def sigmoid(z):\n",
    "    a = 1/(1 + np.exp(-z))\n",
    "    return a"
   ]
  },
  {
   "cell_type": "code",
   "execution_count": 72,
   "metadata": {},
   "outputs": [],
   "source": [
    "def forward_prop(X, params):\n",
    "    w = params['w']\n",
    "    b = params['b']\n",
    "    z = X @ w + b\n",
    "    yhat = sigmoid(z)\n",
    "    return yhat"
   ]
  },
  {
   "cell_type": "code",
   "execution_count": 73,
   "metadata": {},
   "outputs": [],
   "source": [
    "def calculate_cost(yhat, y):\n",
    "    m = y.shape[0]\n",
    "    losses = y * np.log(yhat) + (1 - y) * np.log(1 - yhat)\n",
    "    cost = -np.sum(losses, axis=0, keepdims=True)/m\n",
    "    return cost"
   ]
  },
  {
   "cell_type": "code",
   "execution_count": 74,
   "metadata": {},
   "outputs": [],
   "source": [
    "def back_prop(y, yhat, X):\n",
    "    m = y.shape[0]\n",
    "    dc_dyhat = (-1/m) * ((y/yhat) - ((1-y)/(1-yhat)))\n",
    "    dyhat_dz = yhat * (1 - yhat)\n",
    "    dc_dz = dc_dyhat * dyhat_dz\n",
    "    dc_dw = np.matmul(X.T, dc_dz)\n",
    "    dc_db = np.sum(dc_dz, axis=0, keepdims=True)\n",
    "    grads = {'dw':dc_dw, 'db':dc_db}\n",
    "    return grads\n",
    "    "
   ]
  },
  {
   "cell_type": "code",
   "execution_count": 75,
   "metadata": {},
   "outputs": [],
   "source": [
    "def update_params(params, grads, lr=0.1):\n",
    "    w = params['w']\n",
    "    b = params['b']\n",
    "    dw = grads['dw']\n",
    "    db = grads['db']\n",
    "    w = w - lr * dw\n",
    "    b = b - lr * db\n",
    "    new_parms = {'w':w,'b':b}\n",
    "    return new_parms"
   ]
  },
  {
   "cell_type": "code",
   "execution_count": 76,
   "metadata": {},
   "outputs": [],
   "source": [
    "def save_params(model, params):\n",
    "    path = '../src/models/' + model\n",
    "    for p in params:\n",
    "        param_path = path + '/' + p + '.npy'\n",
    "        np.save(param_path, params[p])"
   ]
  },
  {
   "cell_type": "code",
   "execution_count": 93,
   "metadata": {},
   "outputs": [],
   "source": [
    "def load_params(model, X_train):\n",
    "    params = initialize_params(X_train)\n",
    "    path = '../src/models/' + model\n",
    "    if not os.path.exists(path):\n",
    "        os.makedirs(path)\n",
    "        #print(f'created new model {model}')\n",
    "        return params\n",
    "    else:\n",
    "        for p in params:\n",
    "            try: \n",
    "                param_path = path + '/' + p + '.npy'\n",
    "                params[p] = np.load(param_path)\n",
    "                #print(f'loaded param {p} with value {params[p]}')\n",
    "            except FileNotFoundError:\n",
    "                print(f'couldnt find param {p}, continuing with default value')\n",
    "\n",
    "    return params"
   ]
  },
  {
   "cell_type": "code",
   "execution_count": 99,
   "metadata": {},
   "outputs": [],
   "source": [
    "def train_loop(model, epochs, X_train, y_train, lr):\n",
    "    params = load_params(model, X_train)\n",
    "    for epoch in range(epochs):\n",
    "        yhat = forward_prop(X_train, params)\n",
    "        cost = calculate_cost(yhat, y_train)\n",
    "        grads = back_prop(y_train, yhat, X_train)\n",
    "        params = update_params(params, grads, lr)\n",
    "        print(f'epoch {epoch} cost {cost}')\n",
    "    save_params(model, params)\n",
    "    print(f'saved params {params} in model {model}')"
   ]
  },
  {
   "cell_type": "code",
   "execution_count": 100,
   "metadata": {},
   "outputs": [],
   "source": [
    "def predict(model, X_test, y_test):\n",
    "    params = load_params(model, np.random.randn(80,2))\n",
    "    yhat = forward_prop(X_test, params)\n",
    "    ypred = (yhat > 0.5).astype(int)\n",
    "    match = (ypred == y_test)\n",
    "    score = np.sum(match == 1)/match.size\n",
    "    return score"
   ]
  },
  {
   "cell_type": "code",
   "execution_count": 101,
   "metadata": {},
   "outputs": [
    {
     "name": "stdout",
     "output_type": "stream",
     "text": [
      "epoch 0 cost [[0.36881446]]\n",
      "saved params {'w': array([[ 0.52844298],\n",
      "       [ 0.51755028],\n",
      "       [-0.0593299 ],\n",
      "       [ 0.16646724],\n",
      "       [ 0.1064266 ],\n",
      "       [ 0.22807806],\n",
      "       [ 0.31169054],\n",
      "       [ 0.29072745],\n",
      "       [ 0.00482143],\n",
      "       [ 0.08294769],\n",
      "       [ 0.25492814],\n",
      "       [ 0.00620659],\n",
      "       [ 0.06544819],\n",
      "       [ 0.01366865],\n",
      "       [ 0.17139746]]), 'b': array([[-2.33365928]])} in model m2\n"
     ]
    }
   ],
   "source": [
    "model = 'm2'\n",
    "epochs = 1\n",
    "lr = 0.1\n",
    "\n",
    "train_loop(model, epochs, X_train, y_train, lr)"
   ]
  },
  {
   "cell_type": "code",
   "execution_count": 98,
   "metadata": {},
   "outputs": [
    {
     "data": {
      "text/plain": [
       "0.8142076502732241"
      ]
     },
     "execution_count": 98,
     "metadata": {},
     "output_type": "execute_result"
    }
   ],
   "source": [
    "model = 'm2'\n",
    "\n",
    "score = predict(model, X_test, y_test)\n",
    "score"
   ]
  },
  {
   "cell_type": "code",
   "execution_count": null,
   "metadata": {},
   "outputs": [],
   "source": []
  }
 ],
 "metadata": {
  "kernelspec": {
   "display_name": "project1env",
   "language": "python",
   "name": "python3"
  },
  "language_info": {
   "codemirror_mode": {
    "name": "ipython",
    "version": 3
   },
   "file_extension": ".py",
   "mimetype": "text/x-python",
   "name": "python",
   "nbconvert_exporter": "python",
   "pygments_lexer": "ipython3",
   "version": "3.12.3"
  }
 },
 "nbformat": 4,
 "nbformat_minor": 2
}
